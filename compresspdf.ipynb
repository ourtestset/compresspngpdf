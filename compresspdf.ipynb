{
 "cells": [
  {
   "cell_type": "code",
   "execution_count": null,
   "metadata": {},
   "outputs": [],
   "source": [
    "from PIL import Image as pilimg\n",
    "from reportlab.platypus import Image\n",
    "import os\n",
    "import math\n",
    "from IPython.display import IFrame\n",
    "directory = [\"ori\",\"exp\"]\n",
    "for i in range(len(directory)):\n",
    "    if not os.path.exists(directory[i]):\n",
    "        os.makedirs(directory[i])\n",
    "scaling = 0.33 #0.5\n",
    "export_quali=20"
   ]
  },
  {
   "cell_type": "code",
   "execution_count": null,
   "metadata": {},
   "outputs": [],
   "source": [
    "if \"ori\" not in os.getcwd() and \"home\" in os.getcwd():\n",
    "    if \"exp\" in os.getcwd():\n",
    "        os.chdir(\"../ori\")\n",
    "    else:\n",
    "        os.chdir(\"ori\")\n",
    "#print(os.chdir(\"..\"),os.getcwd())\n",
    "\n",
    "filedir = os.getcwd()\n",
    "files = os.listdir()\n",
    "files = sorted(files)\n",
    "print(files)\n",
    "exportdir = os.getcwd().split(\"ori\")[0]+\"exp\"\n",
    "for i in range(len(files)):\n",
    "    print(i)\n",
    "    foo = pilimg.open(filedir+\"/\"+files[i])\n",
    "    x,y = foo.size\n",
    "    x2 = math.floor(x*scaling)\n",
    "    y2 = math.floor(y*scaling)\n",
    "    foo = foo.resize((x2,y2),pilimg.ANTIALIAS)\n",
    "    foo.save(exportdir+\"/\"+files[i],quality=export_quali)"
   ]
  },
  {
   "cell_type": "code",
   "execution_count": null,
   "metadata": {},
   "outputs": [],
   "source": []
  },
  {
   "cell_type": "code",
   "execution_count": null,
   "metadata": {},
   "outputs": [],
   "source": [
    "from PIL import Image as pilimg\n",
    "from reportlab.platypus import Image\n",
    "\n",
    "if \"exp\" not in os.getcwd():\n",
    "    if \"ori\" in os.getcwd():\n",
    "        os.chdir(\"../exp\")\n",
    "    else:\n",
    "        os.chdir(\"exp\")\n",
    "os.getcwd()\n",
    "\n",
    "from reportlab.pdfgen import canvas\n",
    "from reportlab.lib.units import inch, cm\n",
    "\n",
    "c = canvas.Canvas(os.getcwd().split(\"exp\")[0]+'ex.pdf')\n",
    "for i in range(len(files)):\n",
    "    print(i)\n",
    "    page = str(exportdir+\"/\"+files[i])                                     \n",
    "    c.drawImage(page,0,0, 21*cm, 29.7*cm)\n",
    "    c.showPage()\n",
    "c.save()"
   ]
  },
  {
   "cell_type": "code",
   "execution_count": null,
   "metadata": {},
   "outputs": [],
   "source": [
    "from IPython.display import IFrame\n",
    "IFrame(exportdir+\"/ex.pdf\", width=1000, height=600)\n",
    "#print(exportdir+\"/ex.pdf\")\n",
    "os.getcwd()\n",
    "IFrame(\"ex.pdf\", width=800, height=600)"
   ]
  }
 ],
 "metadata": {
  "kernelspec": {
   "display_name": "Python 3",
   "language": "python",
   "name": "python3"
  },
  "language_info": {
   "codemirror_mode": {
    "name": "ipython",
    "version": 3
   },
   "file_extension": ".py",
   "mimetype": "text/x-python",
   "name": "python",
   "nbconvert_exporter": "python",
   "pygments_lexer": "ipython3",
   "version": "3.7.6"
  }
 },
 "nbformat": 4,
 "nbformat_minor": 4
}
