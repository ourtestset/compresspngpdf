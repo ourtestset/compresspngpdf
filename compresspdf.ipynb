{
 "cells": [
  {
   "cell_type": "code",
   "execution_count": 5,
   "metadata": {},
   "outputs": [
    {
     "name": "stdout",
     "output_type": "stream",
     "text": [
      "['637177128608577551.png', '637176996614430791.png', '637177336746360473.png', '637177124516285821.png', '637177326821421653.png', '637177243611928162.png', '637177358653917065.png', '637177013276059702.png', '637177009537093272.png', '637177333711518589.png', '637177026395697617.png', '637177162491059245.png', '637176996637324802.png', '637177214045651208.png', '637177233173505728.png', '637177119706095853.png', '637177042228408526.png', '637177049329562494.png', '637177034289191467.png', '637177348088000585.png', '637177223639040333.png', '637177056775074924.png', '637177326826421932.png', '637177132769355923.png', '637177011113533672.png', '637177149933248297.png', '637177121451817426.png']\n",
      "0\n",
      "1\n",
      "2\n",
      "3\n",
      "4\n",
      "5\n",
      "6\n",
      "7\n",
      "8\n",
      "9\n",
      "10\n",
      "11\n",
      "12\n",
      "13\n",
      "14\n",
      "15\n",
      "16\n",
      "17\n",
      "18\n",
      "19\n",
      "20\n",
      "21\n",
      "22\n",
      "23\n",
      "24\n",
      "25\n",
      "26\n"
     ]
    }
   ],
   "source": [
    "from PIL import Image as pilimg\n",
    "from reportlab.platypus import Image\n",
    "import os\n",
    "import math\n",
    "from IPython.display import IFrame\n",
    "\n",
    "scaling = 0.33 #0.5\n",
    "export_quali=20\n",
    "\n",
    "if \"ori\" not in os.getcwd() and \"home\" in os.getcwd():\n",
    "    if \"exp\" in os.getcwd():\n",
    "        os.chdir(\"../ori\")\n",
    "    else:\n",
    "        os.chdir(\"ori\")\n",
    "#print(os.chdir(\"..\"),os.getcwd())\n",
    "\n",
    "filedir = os.getcwd()\n",
    "files = os.listdir()\n",
    "\n",
    "exportdir = os.getcwd().split(\"ori\")[0]+\"exp\"\n",
    "for i in range(len(files)):\n",
    "    print(i)\n",
    "    foo = pilimg.open(filedir+\"/\"+files[i])\n",
    "    x,y = foo.size\n",
    "    x2 = math.floor(x*scaling)\n",
    "    y2 = math.floor(y*scaling)\n",
    "    foo = foo.resize((x2,y2),pilimg.ANTIALIAS)\n",
    "    foo.save(exportdir+\"/\"+files[i],quality=export_quali)\n"
   ]
  },
  {
   "cell_type": "code",
   "execution_count": 6,
   "metadata": {},
   "outputs": [
    {
     "name": "stdout",
     "output_type": "stream",
     "text": [
      "0\n",
      "1\n",
      "2\n",
      "3\n",
      "4\n",
      "5\n",
      "6\n",
      "7\n",
      "8\n",
      "9\n",
      "10\n",
      "11\n",
      "12\n",
      "13\n",
      "14\n",
      "15\n",
      "16\n",
      "17\n",
      "18\n",
      "19\n",
      "20\n",
      "21\n",
      "22\n",
      "23\n",
      "24\n",
      "25\n",
      "26\n"
     ]
    }
   ],
   "source": [
    "from PIL import Image as pilimg\n",
    "from reportlab.platypus import Image\n",
    "\n",
    "if \"exp\" not in os.getcwd():\n",
    "    if \"ori\" in os.getcwd():\n",
    "        os.chdir(\"../exp\")\n",
    "    else:\n",
    "        os.chdir(\"exp\")\n",
    "os.getcwd()\n",
    "\n",
    "from reportlab.pdfgen import canvas\n",
    "from reportlab.lib.units import inch, cm\n",
    "\n",
    "c = canvas.Canvas(os.getcwd().split(\"exp\")[0]+'ex.pdf')\n",
    "for i in range(len(files)):\n",
    "    print(i)\n",
    "    page = str(exportdir+\"/\"+files[i])                                     \n",
    "    c.drawImage(page,0,0, 21*cm, 29.7*cm)\n",
    "    c.showPage()\n",
    "c.save()"
   ]
  },
  {
   "cell_type": "code",
   "execution_count": 7,
   "metadata": {},
   "outputs": [
    {
     "data": {
      "text/html": [
       "\n",
       "        <iframe\n",
       "            width=\"800\"\n",
       "            height=\"600\"\n",
       "            src=\"ex.pdf\"\n",
       "            frameborder=\"0\"\n",
       "            allowfullscreen\n",
       "        ></iframe>\n",
       "        "
      ],
      "text/plain": [
       "<IPython.lib.display.IFrame at 0x7f2c8818e0d0>"
      ]
     },
     "execution_count": 7,
     "metadata": {},
     "output_type": "execute_result"
    }
   ],
   "source": [
    "from IPython.display import IFrame\n",
    "IFrame(exportdir+\"/ex.pdf\", width=1000, height=600)\n",
    "#print(exportdir+\"/ex.pdf\")\n",
    "os.getcwd()\n",
    "IFrame(\"ex.pdf\", width=800, height=600)"
   ]
  }
 ],
 "metadata": {
  "kernelspec": {
   "display_name": "Python 3",
   "language": "python",
   "name": "python3"
  },
  "language_info": {
   "codemirror_mode": {
    "name": "ipython",
    "version": 3
   },
   "file_extension": ".py",
   "mimetype": "text/x-python",
   "name": "python",
   "nbconvert_exporter": "python",
   "pygments_lexer": "ipython3",
   "version": "3.7.6"
  }
 },
 "nbformat": 4,
 "nbformat_minor": 4
}
